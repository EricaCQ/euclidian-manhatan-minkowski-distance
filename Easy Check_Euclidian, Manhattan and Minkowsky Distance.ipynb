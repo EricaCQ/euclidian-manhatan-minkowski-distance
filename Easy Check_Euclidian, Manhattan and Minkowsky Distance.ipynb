{
 "cells": [
  {
   "cell_type": "code",
   "execution_count": 3,
   "id": "315ab85b",
   "metadata": {},
   "outputs": [],
   "source": [
    "#library needed\n",
    "from scipy.spatial import distance\n",
    "p1 = (4,3)\n",
    "p2 = (1,-1)\n"
   ]
  },
  {
   "cell_type": "code",
   "execution_count": 4,
   "id": "adaedafb",
   "metadata": {},
   "outputs": [
    {
     "name": "stdout",
     "output_type": "stream",
     "text": [
      "Euclidean Distance b/w (4, 3) and (1, -1) is:  5.0\n"
     ]
    }
   ],
   "source": [
    "#Euclidian Distance\n",
    "euclidean_distance = distance.euclidean(p1, p2)\n",
    "print('Euclidean Distance b/w', p1, 'and', p2, 'is: ', euclidean_distance)"
   ]
  },
  {
   "cell_type": "code",
   "execution_count": 5,
   "id": "a46c89c0",
   "metadata": {},
   "outputs": [
    {
     "name": "stdout",
     "output_type": "stream",
     "text": [
      "Manhattan Distance b/w (4, 3) and (1, -1) is:  7\n"
     ]
    }
   ],
   "source": [
    "#Manhattan Distance\n",
    "manhattan_distance = distance.cityblock(p1,p2)\n",
    "print('Manhattan Distance b/w', p1, 'and', p2, 'is: ', manhattan_distance)"
   ]
  },
  {
   "cell_type": "code",
   "execution_count": 6,
   "id": "628bc18b",
   "metadata": {},
   "outputs": [
    {
     "name": "stdout",
     "output_type": "stream",
     "text": [
      "Minkowski Distance b/w (4, 3) and (1, -1) is:  4.497941445275415\n"
     ]
    }
   ],
   "source": [
    "#Minkowsky Distance\n",
    "minkowski_distance = distance.minkowski(p1, p2, p=3)\n",
    "print('Minkowski Distance b/w', p1, 'and', p2, 'is: ', minkowski_distance)"
   ]
  },
  {
   "cell_type": "code",
   "execution_count": null,
   "id": "aa4d8274",
   "metadata": {},
   "outputs": [],
   "source": []
  }
 ],
 "metadata": {
  "kernelspec": {
   "display_name": "Python 3 (ipykernel)",
   "language": "python",
   "name": "python3"
  },
  "language_info": {
   "codemirror_mode": {
    "name": "ipython",
    "version": 3
   },
   "file_extension": ".py",
   "mimetype": "text/x-python",
   "name": "python",
   "nbconvert_exporter": "python",
   "pygments_lexer": "ipython3",
   "version": "3.9.7"
  }
 },
 "nbformat": 4,
 "nbformat_minor": 5
}
